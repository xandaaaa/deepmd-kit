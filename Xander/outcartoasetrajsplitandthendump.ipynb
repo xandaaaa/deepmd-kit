{
 "cells": [
  {
   "cell_type": "code",
   "execution_count": 1,
   "id": "f1dec8d6-ed0c-410e-9a17-c632c74ece46",
   "metadata": {},
   "outputs": [],
   "source": [
    "import os\n",
    "from ase.io import read, write\n",
    "import dpdata as dp\n",
    "import numpy as np"
   ]
  },
  {
   "cell_type": "code",
   "execution_count": 2,
   "id": "15a281de-8b72-462a-8fdd-3f6ec1a9c3b3",
   "metadata": {},
   "outputs": [
    {
     "name": "stdout",
     "output_type": "stream",
     "text": [
      "outcars/OUTCAR111t500K1 test1/OUTCAR111t500K1.traj\n",
      "Converted OUTCAR111t500K1 to test1/OUTCAR111t500K1.traj\n"
     ]
    }
   ],
   "source": [
    "# Paths\n",
    "input_dir = \"outcars/\"  # Replace with your directory containing OUTCAR files\n",
    "output_dir = \"test1/\"  # Replace with your desired output directory\n",
    "\n",
    "# Create output directory if it doesn't exist\n",
    "if not os.path.exists(output_dir):\n",
    "    os.makedirs(output_dir)\n",
    "\n",
    "# Loop through files in the input directory\n",
    "# Loop through files in the input directory\n",
    "for file_name in os.listdir(input_dir):\n",
    "    if file_name.startswith(\"OUTCAR\"):  # Check if the file starts with \"OUTCAR\"\n",
    "        input_path = os.path.join(input_dir, file_name)\n",
    "        output_path = os.path.join(output_dir, file_name + \".traj\")\n",
    "        print(input_path, output_path)\n",
    "        try:\n",
    "            atoms = read(input_path,index=\":\", format=\"vasp-out\")  # Read OUTCAR\n",
    "            write(output_path, atoms, format = \"traj\")  # Write to .traj format\n",
    "            print(f\"Converted {file_name} to {output_path}\")\n",
    "        except Exception as e:\n",
    "            print(f\"Failed to convert {file_name}: {e}\")"
   ]
  },
  {
   "cell_type": "code",
   "execution_count": 5,
   "id": "569a2307-68e7-4a92-968c-923f0ea6da5b",
   "metadata": {},
   "outputs": [],
   "source": [
    "dpset = dp.MultiSystems.from_dir( dir_name=\"./test1\", file_name=\"OUTCAR*\", fmt=\"ase/traj\")"
   ]
  },
  {
   "cell_type": "code",
   "execution_count": 6,
   "id": "eb3bdd24-d4fe-4f76-91c1-eda9eef7912b",
   "metadata": {},
   "outputs": [
    {
     "data": {
      "text/plain": [
       "MultiSystems (1 systems containing 1224 frames)"
      ]
     },
     "execution_count": 6,
     "metadata": {},
     "output_type": "execute_result"
    }
   ],
   "source": [
    "dpset"
   ]
  },
  {
   "cell_type": "code",
   "execution_count": 7,
   "id": "df3e0c8a-08c2-497d-84a4-948dc80c9f5c",
   "metadata": {},
   "outputs": [
    {
     "data": {
      "text/plain": [
       "MultiSystems (1 systems containing 1224 frames)"
      ]
     },
     "execution_count": 7,
     "metadata": {},
     "output_type": "execute_result"
    }
   ],
   "source": [
    "dpset.to_deepmd_npy(\"deepmd\")"
   ]
  },
  {
   "cell_type": "code",
   "execution_count": 8,
   "id": "7df0b680-183e-4c63-af78-eff324ee80f1",
   "metadata": {},
   "outputs": [
    {
     "data": {
      "text/plain": [
       "MultiSystems (1 systems containing 1224 frames)"
      ]
     },
     "execution_count": 8,
     "metadata": {},
     "output_type": "execute_result"
    }
   ],
   "source": [
    "dpset"
   ]
  },
  {
   "cell_type": "code",
   "execution_count": 9,
   "id": "329b3c47-1ebb-40c4-8b84-5e7e99eef65e",
   "metadata": {},
   "outputs": [],
   "source": [
    "np.random.seed(42)\n",
    "\n",
    "train_systems = dp.MultiSystems()\n",
    "val_systems = dp.MultiSystems()\n",
    "\n",
    "# Iterate through each system\n",
    "for system in dpset:\n",
    "    num_frames = len(system)\n",
    "    indices = np.arange(num_frames)\n",
    "    np.random.shuffle(indices)  # Randomly shuffle indices\n",
    "    \n",
    "    # Split into train (80%) and validation (20%)\n",
    "    split_idx = int(num_frames * 0.8)\n",
    "    train_indices = indices[:split_idx]\n",
    "    val_indices = indices[split_idx:]\n",
    "    \n",
    "    train_systems.append(system.sub_system(train_indices))\n",
    "    val_systems.append(system.sub_system(val_indices))"
   ]
  },
  {
   "cell_type": "code",
   "execution_count": 10,
   "id": "b09e7cb8-f954-4688-b9ea-d452c66ecc22",
   "metadata": {},
   "outputs": [
    {
     "data": {
      "text/plain": [
       "MultiSystems (1 systems containing 979 frames)"
      ]
     },
     "execution_count": 10,
     "metadata": {},
     "output_type": "execute_result"
    }
   ],
   "source": [
    "train_systems"
   ]
  },
  {
   "cell_type": "code",
   "execution_count": 11,
   "id": "c0dc3d98-fc5d-40a4-945a-0e4f4b721be7",
   "metadata": {},
   "outputs": [
    {
     "data": {
      "text/plain": [
       "MultiSystems (1 systems containing 245 frames)"
      ]
     },
     "execution_count": 11,
     "metadata": {},
     "output_type": "execute_result"
    }
   ],
   "source": [
    "val_systems"
   ]
  },
  {
   "cell_type": "code",
   "execution_count": 12,
   "id": "611d141e-b6d2-4e2d-8e9e-f79cdb9a8ad9",
   "metadata": {},
   "outputs": [
    {
     "data": {
      "text/plain": [
       "MultiSystems (1 systems containing 245 frames)"
      ]
     },
     "execution_count": 12,
     "metadata": {},
     "output_type": "execute_result"
    }
   ],
   "source": [
    "train_systems.to_deepmd_npy(\"train_data\")\n",
    "val_systems.to_deepmd_npy('val_data')"
   ]
  }
 ],
 "metadata": {
  "kernelspec": {
   "display_name": "deepmd",
   "language": "python",
   "name": "python3"
  },
  "language_info": {
   "codemirror_mode": {
    "name": "ipython",
    "version": 3
   },
   "file_extension": ".py",
   "mimetype": "text/x-python",
   "name": "python",
   "nbconvert_exporter": "python",
   "pygments_lexer": "ipython3",
   "version": "3.12.11"
  }
 },
 "nbformat": 4,
 "nbformat_minor": 5
}
